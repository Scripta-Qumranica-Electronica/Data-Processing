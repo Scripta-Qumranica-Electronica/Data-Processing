{
 "cells": [
  {
   "cell_type": "markdown",
   "metadata": {},
   "source": [
    "# Using the SQE API\n",
    "\n",
    "You can get nearly all the information in the SQE database directly via the HTTP API.\n",
    "\n",
    "We will be adding a new API soon, but this one should remain available until I can update this.  I present here some basics for downloading transcriptions using the current HTTP API."
   ]
  },
  {
   "cell_type": "markdown",
   "metadata": {},
   "source": [
    "## First pull in the dependencies"
   ]
  },
  {
   "cell_type": "code",
   "execution_count": null,
   "metadata": {},
   "outputs": [],
   "source": [
    "import sys, pprint, json\n",
    "\n",
    "try:\n",
    "    import requests\n",
    "except ImportError:\n",
    "    !conda install --yes --prefix {sys.prefix} requests\n",
    "    import requests\n",
    "    \n",
    "try:\n",
    "    from genson import SchemaBuilder\n",
    "except ImportError:\n",
    "    !conda install --yes --prefix {sys.prefix} genson\n",
    "    from genson import SchemaBuilder\n",
    "\n",
    "pp = pprint.PrettyPrinter(indent=2)\n",
    "api = \"https://qumranica.org/Scrollery/resources/cgi-bin/scrollery-cgi.pl\""
   ]
  },
  {
   "cell_type": "markdown",
   "metadata": {},
   "source": [
    "## Next get the login credentials\n",
    "\n",
    "All requests to the SQE API require valid credentials.  You can get them like this:"
   ]
  },
  {
   "cell_type": "code",
   "execution_count": null,
   "metadata": {},
   "outputs": [],
   "source": [
    "r = requests.post(api, json={\"transaction\": \"validateSession\", \"PASSWORD\":\"asdf\", \"USER_NAME\":\"test\"})\n",
    "session = r.json()['SESSION_ID']"
   ]
  },
  {
   "cell_type": "markdown",
   "metadata": {},
   "source": [
    "## Making requests\n",
    "\n",
    "All calls to the SQE API will use a `transaction` in the post request payload data.  This should be accompanied by the necessary data to perform that transaction.\n",
    "\n",
    "### Finding all available scrolls\n",
    "\n",
    "Try, for instance, downloading a list of scrolls with the `transaction` `getCombs`. You can also use the little python function `scrollIdByName` here to find a scroll_version_id in the API response by its scroll name."
   ]
  },
  {
   "cell_type": "code",
   "execution_count": null,
   "metadata": {},
   "outputs": [],
   "source": [
    "r = requests.post(api, json={\"transaction\": \"getCombs\", \"SESSION_ID\":session})\n",
    "scrolls = r.json()['results']\n",
    "\n",
    "def scrollIdByName(name):\n",
    "    sid = None\n",
    "    for scroll in scrolls:\n",
    "        if name == scroll['name']:\n",
    "            sid = scroll['scroll_version_id']\n",
    "            break\n",
    "    return sid\n",
    "\n",
    "selectedScroll = scrollIdByName('4Q51')"
   ]
  },
  {
   "cell_type": "markdown",
   "metadata": {},
   "source": [
    "### Finding available cols/frags\n",
    "\n",
    "The API transaction `getColOfComb` will send you all columns and fragments of a scroll in their canonical order—you must supply the desired `scroll_version_id`."
   ]
  },
  {
   "cell_type": "code",
   "execution_count": null,
   "metadata": {},
   "outputs": [],
   "source": [
    "r = requests.post(api, json={\"transaction\": \"getColOfComb\", \"scroll_version_id\": selectedScroll, \"SESSION_ID\":session})\n",
    "cols = r.json()['results']\n",
    "print(json.dumps(cols, indent=2, sort_keys=True))\n",
    "col2 = cols[1]"
   ]
  },
  {
   "cell_type": "markdown",
   "metadata": {},
   "source": [
    "### transcriptions\n",
    "\n",
    "There are several different ways to work with transcribed text.  After downloading it with the `transaction` `getSignStreamOfFrag`, you will want to serialize it into something more human freindly.  The transcriptions in the database are a DAG, but these initial API calls serialize it into an ordered array for you (we do have functionality to download the graph, but I will add more broad support for that later).\n",
    "\n",
    "The schema of this output looks as follows:"
   ]
  },
  {
   "cell_type": "code",
   "execution_count": null,
   "metadata": {},
   "outputs": [],
   "source": [
    "r = requests.post(api, json={\"transaction\": \"getSignStreamOfFrag\", \"scroll_version_id\": selectedScroll, \"col_id\": col2['col_id'], \"SESSION_ID\":session})\n",
    "text = r.json()['text']\n",
    "\n",
    "builder = SchemaBuilder()\n",
    "builder.add_object(text)\n",
    "print(json.dumps(builder.to_schema(), indent=2, sort_keys=False))"
   ]
  },
  {
   "cell_type": "markdown",
   "metadata": {},
   "source": [
    "The actual data looks like this:"
   ]
  },
  {
   "cell_type": "code",
   "execution_count": null,
   "metadata": {},
   "outputs": [],
   "source": [
    "print(json.dumps(r.json(), indent=2, sort_keys=False))"
   ]
  },
  {
   "cell_type": "markdown",
   "metadata": {},
   "source": [
    "Since the data already comes in order, you could simply iterate over the lists to quickly see the text (note the helper functions at the beginning of the cell):"
   ]
  },
  {
   "cell_type": "code",
   "execution_count": null,
   "metadata": {},
   "outputs": [],
   "source": [
    "#The following helpers serialize each element to a list, since they could be either a scalar or list\n",
    "def serializeChars(sign):\n",
    "    if isinstance(sign['chars'], list):\n",
    "        return sign['chars']\n",
    "    else:\n",
    "        return [sign['chars']]\n",
    "def serializeCharLetters(char):\n",
    "    if isinstance(char['sign_char'], list):\n",
    "        return char['sign_char']\n",
    "    else:\n",
    "        return [char['sign_char']]  \n",
    "def serializeCharAttributes(char):\n",
    "    try:\n",
    "        if isinstance(char['attributes'], list):\n",
    "            return char['attributes']\n",
    "        else:\n",
    "            return [char['attributes']]\n",
    "    except:\n",
    "        return [] \n",
    "def serializeAttrValues(attr):\n",
    "    if isinstance(attr['values'], list):\n",
    "        #These are ordered so we can easily open and close HTML tags\n",
    "        sortorder={\n",
    "            \"SCROLL_START\":0, \n",
    "            \"COLUMN_START\":1, \n",
    "            \"LINE_START\":2, \n",
    "            \"LINE_END\":3, \n",
    "            \"COLUMN_END\":4, \n",
    "            \"SCROLL_END\":5\n",
    "        }\n",
    "        return sorted(attr['values'], key=lambda k: sortorder[k['attribute_value']])\n",
    "    else:\n",
    "        return [attr['values']]\n",
    "\n",
    "#This function formats the output\n",
    "def outputAllText():\n",
    "    #Begin printing the output\n",
    "    print(r.json()['text'][0]['scroll_name'])\n",
    "    # Cycle through the cols/fragments\n",
    "    for fragment in r.json()['text'][0]['fragments']:\n",
    "        print(fragment['fragment_name'], end='')\n",
    "        #Cycle through the lines\n",
    "        for line in fragment['lines']:\n",
    "            print('\\n', line['line_name'], '\\t', end='')\n",
    "            #Cycle through the signs\n",
    "            for sign in line['signs']:\n",
    "                #Whether there is more than one sign possible, print the first\n",
    "                char = serializeChars(sign)[0]\n",
    "                letter = serializeCharLetters(char)[0]\n",
    "                print(letter, end='')\n",
    "                #Check the attributes (if there are any) to see if we have a space\n",
    "                attrs = serializeCharAttributes(char)\n",
    "                if len(attrs) > 0:\n",
    "                    for attr in attrs:\n",
    "                        values = serializeAttrValues(attr)\n",
    "                        for value in values:\n",
    "                            if value['attribute_value'] == 'SPACE':\n",
    "                                print(' ', end='')\n",
    "outputAllText()"
   ]
  },
  {
   "cell_type": "markdown",
   "metadata": {},
   "source": [
    "The previous method does not do any advanced checking to see if signs are damaged or reconstructed.  It just prints the entirety of the transcribed text.\n",
    "\n",
    "We could do a minimal output that only prints those transcribed characters which are fully visible (this information is transmitted in the `attribute_id` and `attribute_value` fields)."
   ]
  },
  {
   "cell_type": "code",
   "execution_count": null,
   "metadata": {},
   "outputs": [],
   "source": [
    "def outputMinimalText():\n",
    "    #Begin printing the output\n",
    "    print(r.json()['text'][0]['scroll_name'])\n",
    "    # Cycle through the cols/fragments\n",
    "    for fragment in r.json()['text'][0]['fragments']:\n",
    "        print(fragment['fragment_name'], end='')\n",
    "        #Cycle through the lines\n",
    "        for line in fragment['lines']:\n",
    "            print('\\n', line['line_name'], '\\t', end='')\n",
    "            #Cycle through the signs\n",
    "            for sign in line['signs']:\n",
    "                #Whether there is more than one sign possible, print the first\n",
    "                char = serializeChars(sign)[0]\n",
    "                letter = serializeCharLetters(char)[0]\n",
    "                #Check the attributes for damage and to see if we have a space\n",
    "                attrs = serializeCharAttributes(char)\n",
    "                damaged = False\n",
    "                space = False\n",
    "                if len(attrs) > 0:\n",
    "                    for attr in attrs:\n",
    "                        values = serializeAttrValues(attr)\n",
    "                        for value in values:\n",
    "                            if value['attribute_value'] == 'SPACE':\n",
    "                                space = True\n",
    "                            if (value['attribute_value'] == 'INCOMPLETE_BUT_CLEAR' \n",
    "                                or value['attribute_value'] == 'INCOMPLETE_AND_NOT_CLEAR') or (\n",
    "                                attr['attribute_id'] == 6 and value['attribute_value'] == 'TRUE'):\n",
    "                                damaged = True\n",
    "                if not damaged:\n",
    "                    print(letter, end='')\n",
    "                    if space:\n",
    "                        print(' ', end='')\n",
    "                            \n",
    "outputMinimalText()"
   ]
  },
  {
   "cell_type": "markdown",
   "metadata": {},
   "source": [
    "You could also serialize this to HTML by reading the all of the attribute tags more closely and adding some nice CSS."
   ]
  },
  {
   "cell_type": "code",
   "execution_count": null,
   "metadata": {},
   "outputs": [],
   "source": [
    "def outputHTMLText():\n",
    "    print('<!DOCTYPE html>')\n",
    "    print('<html>')\n",
    "    print('<head>')\n",
    "    print('\\t<meta charset=\"UTF-8\">')\n",
    "    print('\\t<title>SQE Transcription Output</title>')\n",
    "    print(\"\"\"\n",
    "        <style>\n",
    "            span.non-rcnst + span.reconstructed:before {\n",
    "                content: '[';\n",
    "            }\n",
    "            span.reconstructed + span.non-rcnst:before {\n",
    "                content: ']';\n",
    "            }\n",
    "            span.reconstructed:first-child:before {\n",
    "                content: '[';\n",
    "            }\n",
    "            span.reconstructed:last-child:after {\n",
    "                content: ']';\n",
    "            }\n",
    "        </style>\n",
    "    \"\"\")\n",
    "    print('</head>')\n",
    "    print('\\n<body>')\n",
    "    #Begin printing the output\n",
    "    print('\\t<h1>', r.json()['text'][0]['scroll_name'], '</h1>')\n",
    "    # Cycle through the cols/fragments\n",
    "    for fragment in r.json()['text'][0]['fragments']:\n",
    "        #Cycle through the lines\n",
    "        for line in fragment['lines']:\n",
    "            #Cycle through the signs\n",
    "            for sign in line['signs']:\n",
    "                #Whether there is more than one sign possible, print the first\n",
    "                char = serializeChars(sign)[0]\n",
    "                letter = serializeCharLetters(char)[0]\n",
    "                #Check the attributes for damage and to see if we have a space\n",
    "                attrs = serializeCharAttributes(char)\n",
    "                damaged = False\n",
    "                space = False\n",
    "                if len(attrs) > 0:\n",
    "                    for attr in attrs:\n",
    "                        values = serializeAttrValues(attr)\n",
    "                        for value in values:\n",
    "                            if value['attribute_value'] == 'COLUMN_START':\n",
    "                                print('\\t<div dir=\"rtl\">')\n",
    "                                print('\\t\\t<h2>', fragment['fragment_name'], '</h2>')\n",
    "                                print('\\t\\t<p>')\n",
    "                            if value['attribute_value'] == 'COLUMN_END':\n",
    "                                print('\\t\\t</p>')\n",
    "                                print('\\t</div>')\n",
    "                            if value['attribute_value'] == 'LINE_START':\n",
    "                                print('\\t\\t\\t<div>')\n",
    "                                print('\\t\\t\\t\\t<span class=\"line-name non-rcnst\">', line['line_name'], '</span>')\n",
    "                                print('\\t\\t\\t\\t<span>', end='')\n",
    "                            if value['attribute_value'] == 'LINE_END':\n",
    "                                print('</span>')\n",
    "                                print('\\t\\t\\t</div>')\n",
    "                            if (value['attribute_value'] == 'INCOMPLETE_BUT_CLEAR' \n",
    "                                or value['attribute_value'] == 'INCOMPLETE_AND_NOT_CLEAR') or (\n",
    "                                attr['attribute_id'] == 6 and value['attribute_value'] == 'TRUE'):\n",
    "                                damaged = True\n",
    "                            if value['attribute_value'] == 'SPACE':\n",
    "                                print(' ', end='')\n",
    "                            else:\n",
    "                                if value['attribute_value'] == 'INCOMPLETE_BUT_CLEAR':\n",
    "                                    print(f'<span class=\"incomplete-but-clear non-rcnst\">{letter}ׄ</span>', end='')\n",
    "                                elif value['attribute_value'] == 'INCOMPLETE_AND_NOT_CLEAR':\n",
    "                                    print(f'<span class=\"incomplete-and-not-clear non-rcnst\">{letter}֯</span>', end='')\n",
    "                                elif attr['attribute_id'] == 6 and value['attribute_value'] == 'TRUE':\n",
    "                                    print(f'<span class=\"reconstructed\">{letter}</span>', end='')\n",
    "                                elif value['attribute_value'] == 'ABOVE_LINE':\n",
    "                                    print(f'<span class=\"non-rcnst\"><sup>{letter}</sup></span>', end='')\n",
    "                                elif value['attribute_value'] == 'BELOW_LINE':\n",
    "                                    print(f'<span class=\"non-rcnst\"><sub>{letter}</sub></span>', end='')\n",
    "                else: print(f'<span class=\"non-rcnst\">{letter}</span>', end='')\n",
    "    print('</body>')\n",
    "    print('</html>')\n",
    "                            \n",
    "outputHTMLText()"
   ]
  }
 ],
 "metadata": {
  "kernelspec": {
   "display_name": "Python 3",
   "language": "python",
   "name": "python3"
  },
  "language_info": {
   "codemirror_mode": {
    "name": "ipython",
    "version": 3
   },
   "file_extension": ".py",
   "mimetype": "text/x-python",
   "name": "python",
   "nbconvert_exporter": "python",
   "pygments_lexer": "ipython3",
   "version": "3.6.7"
  }
 },
 "nbformat": 4,
 "nbformat_minor": 2
}
